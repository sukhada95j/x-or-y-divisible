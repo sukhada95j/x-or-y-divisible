{
  "nbformat": 4,
  "nbformat_minor": 0,
  "metadata": {
    "colab": {
      "provenance": []
    },
    "kernelspec": {
      "name": "python3",
      "display_name": "Python 3"
    },
    "language_info": {
      "name": "python"
    }
  },
  "cells": [
    {
      "cell_type": "code",
      "execution_count": 6,
      "metadata": {
        "colab": {
          "base_uri": "https://localhost:8080/"
        },
        "id": "Tgu5aBpC5GF-",
        "outputId": "7c2846fa-53b2-4252-d701-126dba8f6f4c"
      },
      "outputs": [
        {
          "output_type": "execute_result",
          "data": {
            "text/plain": [
              "False"
            ]
          },
          "metadata": {},
          "execution_count": 6
        }
      ],
      "source": [
        "#Create a function that checks if a number n is divisible by two numbers x AND y. All inputs are positive, non-zero numbers.\n",
        "\n",
        "#Examples:\n",
        "#1) n =   3, x = 1, y = 3 =>  true because   3 is divisible by 1 and 3\n",
        "#2) n =  12, x = 2, y = 6 =>  true because  12 is divisible by 2 and 6\n",
        "#3) n = 100, x = 5, y = 3 => false because 100 is not divisible by 3\n",
        "#4) n =  12, x = 7, y = 5 => false because  12 is neither divisible by 7 \n",
        "\n",
        "\n",
        "def is_divisible(n,x,y):\n",
        "    if (n % x==0) and (n % y==0):\n",
        "        return True\n",
        "    else:\n",
        "        return False\n",
        "\n",
        "is_divisible(3,2,2)"
      ]
    }
  ]
}